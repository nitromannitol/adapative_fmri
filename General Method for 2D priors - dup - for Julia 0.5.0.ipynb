{
 "cells": [
  {
   "cell_type": "markdown",
   "metadata": {
    "deletable": true,
    "editable": true
   },
   "source": [
    "Using this code should be able to run the MCMC sampling algorithm on any set of data.\n",
    "\n",
    "Input: (p-value, locations)\n",
    "\n",
    "Output: significant clusters"
   ]
  },
  {
   "cell_type": "code",
   "execution_count": 1,
   "metadata": {
    "collapsed": false,
    "deletable": true,
    "editable": true
   },
   "outputs": [],
   "source": [
    "#run this twice\n",
    "using Distributions\n",
    "using PyPlot"
   ]
  },
  {
   "cell_type": "code",
   "execution_count": 77,
   "metadata": {
    "collapsed": false,
    "deletable": true,
    "editable": true
   },
   "outputs": [
    {
     "name": "stderr",
     "output_type": "stream",
     "text": [
      "WARNING: Method definition getSphere(Any, Any, Any, Any) in module Main at In[4]:5 overwritten at In[77]:5.\n"
     ]
    },
    {
     "data": {
      "text/plain": [
       "getSphere (generic function with 1 method)"
      ]
     },
     "execution_count": 77,
     "metadata": {},
     "output_type": "execute_result"
    }
   ],
   "source": [
    "#returns the sphere in 3d or 2d (represented as an array of points) associated \n",
    "#with the given radius and center\n",
    "#right now only works with 3dimensions will change this when I figure out product iterators\n",
    "function getSphere(center, radius, locations, dimension)\n",
    "    if(dimension == 2)\n",
    "        cluster = Array{Float64,2}[];\n",
    "        min_x,min_y = Array{Int}(minimum(locations.-center,1));\n",
    "        max_x,max_y = Array{Int}(maximum(locations.-center,1)); \n",
    "        for x in max(-radius,min_x):min(radius,max_x)\n",
    "            for y in max(-radius,min_y):min(radius,max_y)\n",
    "                if x*x + y*y <= radius^2\n",
    "                    push!(cluster, center + [x y])\n",
    "                end\n",
    "            end\n",
    "        end\n",
    "        return cluster; \n",
    "    end\n",
    "        \n",
    "    #otherwise dimension = 3\n",
    "    cluster = Array{Float64,2}[];\n",
    "    min_x,min_y,min_z = Array{Int}(minimum(locations.-center,1));\n",
    "    max_x,max_y,max_z = Array{Int}(maximum(locations.-center,1)); \n",
    "    for x in max(-radius,min_x):min(radius,max_x)\n",
    "        for y in max(-radius,min_y):min(radius,max_y)\n",
    "            for z in max(-radius,min_z):min(radius,max_z)\n",
    "                if x*x + y*y + z*z <= radius^2\n",
    "                    push!(cluster, center + [x y z])\n",
    "                end\n",
    "            end\n",
    "        end\n",
    "    end\n",
    "    return cluster; \n",
    "end"
   ]
  },
  {
   "cell_type": "code",
   "execution_count": 78,
   "metadata": {
    "collapsed": false,
    "deletable": true,
    "editable": true
   },
   "outputs": [
    {
     "name": "stderr",
     "output_type": "stream",
     "text": [
      "WARNING: Method definition getMetropolisStep(Any, Any, Any, Any, Any, Any) in module Main at In[5]:3 overwritten at In[78]:3.\n"
     ]
    },
    {
     "data": {
      "text/plain": [
       "getMetropolisStep (generic function with 1 method)"
      ]
     },
     "execution_count": 78,
     "metadata": {},
     "output_type": "execute_result"
    }
   ],
   "source": [
    "#given proposal returns the step that metropolis chooses\n",
    "function getMetropolisStep(prop, curr, prior_dist, curr_dist, prop_dist, data)\n",
    "    n = length(data)\n",
    "    likelihood_current = loglikelihood(curr_dist, data);\n",
    "    likelihood_prop = loglikelihood(prop_dist, data); \n",
    "\n",
    "    prior_current = log(pdf(prior_dist, curr));\n",
    "    prior_prop = log(pdf(prior_dist, prop));\n",
    "\n",
    "    p_curr = likelihood_current+prior_current;\n",
    "    p_prop = likelihood_prop+prior_prop;\n",
    "\n",
    "    p_accept = exp(p_prop-p_curr); \n",
    "\n",
    "    #flip a p-weighted coin to determine whether we accept the change\n",
    "    if(rand() < p_accept)\n",
    "        return prop; \n",
    "    end\n",
    "    return curr; \n",
    "end"
   ]
  },
  {
   "cell_type": "code",
   "execution_count": 79,
   "metadata": {
    "collapsed": false,
    "deletable": true,
    "editable": true
   },
   "outputs": [
    {
     "name": "stderr",
     "output_type": "stream",
     "text": [
      "\n",
      "WARNING: deprecated syntax \"for (...)\" at In[79]:31.\n",
      "Use \"for ...\" instead.\n",
      "\n",
      "WARNING: deprecated syntax \"for (...)\" at In[79]:37.\n",
      "Use \"for ...\" instead.\n",
      "\n",
      "WARNING: deprecated syntax \"for (...)\" at In[79]:79.\n",
      "Use \"for ...\" instead.\n",
      "\n",
      "WARNING: deprecated syntax \"for (...)\" at In[79]:88.\n",
      "Use \"for ...\" instead.\n",
      "\n",
      "WARNING: deprecated syntax \"for (...)\" at In[79]:138.\n",
      "Use \"for ...\" instead.\n",
      "\n",
      "WARNING: deprecated syntax \"for (...)\" at In[79]:192.\n",
      "Use \"for ...\" instead.\n",
      "\n",
      "WARNING: deprecated syntax \"for (...)\" at In[79]:223.\n",
      "Use \"for ...\" instead.\n",
      "\n",
      "WARNING: deprecated syntax \"for (...)\" at In[79]:227.\n",
      "Use \"for ...\" instead.\n",
      "WARNING: Method definition getLabels(Any, Any) in module Main at In[6]:3 overwritten at In[79]:3.\n",
      "WARNING: Method definition getLabels(Any, Any, Any) in module Main at In[6]:3 overwritten at In[79]:3.\n",
      "WARNING: Method definition getLabels(Any, Any, Any, Any) in module Main at In[6]:3 overwritten at In[79]:3.\n",
      "WARNING: Method definition getLabels(Any, Any, Any, Any, Any) in module Main at In[6]:3 overwritten at In[79]:3.\n",
      "WARNING: Method definition getLabels(Any, Any, Any, Any, Any, Any) in module Main at In[6]:3 overwritten at In[79]:3.\n",
      "WARNING: Method definition getLabels(Any, Any, Any, Any, Any, Any, Any) in module Main at In[6]:3 overwritten at In[79]:3.\n"
     ]
    },
    {
     "data": {
      "text/plain": [
       "getLabels (generic function with 6 methods)"
      ]
     },
     "execution_count": 79,
     "metadata": {},
     "output_type": "execute_result"
    }
   ],
   "source": [
    "function getLabels(pvalues, locations, numiters = 1000, Beta_priordist = TruncatedNormal(8, 5, 2, 200),Clusters_priordist = Truncated(Poisson(50), 1, 500)\n",
    ",  radius_prior = TruncatedNormal(2, 2, 1,10), lambda = 100)\n",
    "    if(length(pvalues) != size(locations,1))\n",
    "        println(\"Error: input vectors should have same length.\")\n",
    "    end\n",
    "    n = length(pvalues); \n",
    "    dim = size(locations,2); \n",
    "\n",
    "    #get pvalue index of corresponding location \n",
    "    row_indicies = Dict{Array{Float64,2},Int64}(); \n",
    "    n = size(locations,1)\n",
    "    for i in 1:n\n",
    "        row_indicies[locations[i,:]'] = i;\n",
    "    end  \n",
    "    \n",
    "    ##################################################\n",
    "    ##### initialize parameters and prior distributions \n",
    "    ##################################################\n",
    "    \n",
    "    println(\"Initializing parameters and prior distributions.\");\n",
    "    \n",
    "    birth_rate = lambda;\n",
    "    t_0 = 1;  #run chain for 1 time step \n",
    "\n",
    "    #initial labels/clusters\n",
    "    num_clusters = 2; #initial number of clusters\n",
    "    labels = ones(n); \n",
    "    center_indicies = Float64[];\n",
    "\n",
    "    for(i in 1:num_clusters)\n",
    "        radius = round(rand(radius_prior)); \n",
    "        ind = rand(DiscreteUniform(1,n));\n",
    "        push!(center_indicies, ind); \n",
    "        center = locations[ind,:]; \n",
    "        newCluster = getSphere(center', radius, locations, dim);\n",
    "        for(point in newCluster)\n",
    "            index = get(row_indicies, point, -1)\n",
    "            if(index ==-1) continue; end;\n",
    "            labels[index] = i+1; #since label 1 is the null label, label+1\n",
    "        end\n",
    "    end\n",
    "\n",
    "    #add null cluster (corresponding to beta = 1) to the beginning \n",
    "    b_arr = [1]; \n",
    "    b_arr = [b_arr; rand(Beta_priordist,num_clusters)]; #beta distribution parameters\n",
    "    b_dist = [Beta(1/b,b) for b in b_arr]; #array of beta distributions\n",
    "\n",
    "\n",
    "    ##################################################\n",
    "    ##### Functions to calculate likelihoods \n",
    "    ##################################################\n",
    "\n",
    "    println(\"Calculating initial likelihoods\");\n",
    "    #calculate log likelihood of cluster at index idx \n",
    "    #given pvalues, their labels and the beta distributions\n",
    "    function calculateClusterLikelihood(pvalues, b_dist, idx, labels)\n",
    "        cluster = pvalues[labels .== idx];\n",
    "        return loglikelihood(b_dist[idx], cluster);\n",
    "    end\n",
    "    \n",
    "    #calculate death rate of component j in the model \n",
    "    function calculateDeathRate(num_clusters, pvalues, b_dist, Clusters_priordist, idx, cluster_logLikelihoods, labels, l_y, c_y)  \n",
    "        updated_likelihoods = copy(cluster_logLikelihoods);\n",
    "        #calculate likelihood after death \n",
    "        #updated values \n",
    "        cluster = pvalues[labels.==idx];\n",
    "        updated_likelihoods[1] = updated_likelihoods[1] + loglikelihood(b_dist[1],cluster);\n",
    "        updated_likelihoods[idx] = 0; \n",
    "        l_dy = sum(updated_likelihoods)\n",
    "        c_dy = loglikelihood(Clusters_priordist, [num_clusters-1]);\n",
    "        return log(lambda) + (l_dy - l_y) + (c_dy - log(num_clusters) - c_y);\n",
    "    end\n",
    "\n",
    "    #save the log likelihood of each cluster in an array so we don't need\n",
    "    #to recalculate it always, just need to recalculate whenever \n",
    "    #deleting a cluster or adding a new one\n",
    "    cluster_logLikelihoods = Float64[]; \n",
    "    for(idx in 1:(num_clusters+1))\n",
    "        push!(cluster_logLikelihoods, calculateClusterLikelihood(pvalues, b_dist, idx, labels));\n",
    "    end\n",
    "    #calculate current model log likelihood by summing over the cluster likelihoods\n",
    "    l_y = sum(cluster_logLikelihoods)\n",
    "    c_y = loglikelihood(Clusters_priordist, [num_clusters]);\n",
    "\n",
    "    #calculate death rate of each cluster in the model \n",
    "    delta_arr = zeros(num_clusters)\n",
    "    for(idx in 1:num_clusters)\n",
    "        delta_arr[idx] = calculateDeathRate(num_clusters, pvalues, b_dist, Clusters_priordist, idx+1, cluster_logLikelihoods, labels, l_y, c_y);\n",
    "    end\n",
    "    death_rate = sum(exp(delta_arr));\n",
    "    \n",
    "    #println(delta_arr)\n",
    "    \n",
    "    \n",
    "    ##################################################\n",
    "    ##### Birth-death chain to sample labels \n",
    "    ##################################################\n",
    "   \n",
    "    #run the chain for a certain amount of time before collecting samples\n",
    "    burn_in = round(numiters/2);\n",
    "    #change constant 20 to variable\n",
    "    sample_points = round(linspace(burn_in,numiters,20));\n",
    "    count = 1; \n",
    "    label_arr = zeros(length(pvalues),20); \n",
    "\n",
    "    \n",
    "    #distribution of signal betas\n",
    "    bcurr_arr = b_arr[2:end];\n",
    "    \n",
    "    println(\"Warming up the chain.\");\n",
    "    for idx_1 in 1:numiters\n",
    "        curr_time = 0; \n",
    "        while(curr_time < t_0)\n",
    "            #simulate time to next birth/death from an exponential distribution \n",
    "            #with mean: birth_rate + death_rate\n",
    "            t = 1/rand(Exponential(birth_rate + exp(death_rate)));\n",
    "            curr_time = curr_time + t; \n",
    "            \n",
    "            #flip a weighted coin to determine birth or death \n",
    "            is_birth = rand(Bernoulli(birth_rate/(birth_rate + death_rate)));\n",
    "\n",
    "            if(is_birth == 1)\n",
    "                #we have a birth \n",
    "                #println(\"Great! The population is growing, it's now size: \", num_clusters+1);\n",
    "\n",
    "                #only choose cluster centers that are not\n",
    "                #already centers of an existing current cluster\n",
    "                ind = rand(DiscreteUniform(1,n));\n",
    "                while(ind in center_indicies)\n",
    "                    ind = rand(DiscreteUniform(1,n));\n",
    "                end\n",
    "                radius = round(rand(radius_prior)); \n",
    "                center = locations[ind,:]; \n",
    "                newCluster = getSphere(center', radius, locations, dim);    \n",
    "\n",
    "\n",
    "                for(point in newCluster)\n",
    "                    index = get(row_indicies, point, -1)\n",
    "                    if(index ==-1) continue; end; #if location is not there (a hole in the topology)                   \n",
    "                    #println(labels[index]);\n",
    "                    if(labels[index] != 1) continue;end; #only relabel null signals\n",
    "                    new_label = num_clusters + 2; \n",
    "                    labels[index] = new_label; \n",
    "                end\n",
    "\n",
    "                #simulate the beta parameter associated with \n",
    "                #this cluster from the prior\n",
    "                b = rand(Beta_priordist)\n",
    "                #update parameter vectors\n",
    "                push!(bcurr_arr, b)\n",
    "                push!(center_indicies, ind); \n",
    "                num_clusters = num_clusters + 1; \n",
    "                b_dist = [Beta(1/b,b) for b in [1; bcurr_arr]];\n",
    "                #update model likelihoods \n",
    "                #Note that the null cluster \n",
    "                #log likelihood is always 0 when it's uniform so we don't bother updating it\n",
    "\n",
    "                #add likelihood of new cluster \n",
    "                push!(cluster_logLikelihoods, calculateClusterLikelihood(pvalues, b_dist, num_clusters+1, labels))\n",
    "\n",
    "                #calculate current model log likelihood by summing over the cluster likelihoods\n",
    "                l_y = sum(cluster_logLikelihoods)\n",
    "                c_y = loglikelihood(Clusters_priordist, [num_clusters]);\n",
    "\n",
    "                #calculate death rate of additional component\n",
    "                push!(delta_arr, calculateDeathRate(num_clusters, pvalues, b_dist, Clusters_priordist, num_clusters+1, cluster_logLikelihoods, labels, l_y, c_y));\n",
    "                death_rate = sum(exp(delta_arr));\n",
    "\n",
    "            else\n",
    "                #we have a death \n",
    "\n",
    "                #select a component to die by sampling from a \n",
    "                #categorical distribution with vector delta_arr/death_rate\n",
    "                sure_deaths = find(delta_arr .> 50);\n",
    "                if(length(sure_deaths) > 0) #for computational issue\n",
    "                    death_j = sure_deaths[1];\n",
    "                else\n",
    "                    sure_deaths = find(delta_arr .== -Inf);\n",
    "                    if(length(sure_deaths) > 0) #for computational issue\n",
    "                        death_j = sure_deaths[1];\n",
    "                    else\n",
    "                        death_j = rand(Categorical(vec(exp(delta_arr)./death_rate)));\n",
    "                    end\n",
    "                end\n",
    "                #println(\"Oh no! A cluster with death rate \", (delta_arr./death_rate)[death_j], \" has perished.\");\n",
    "                \n",
    "                #update parameter vectors\n",
    "                deleteat!(bcurr_arr, death_j);\n",
    "                deleteat!(center_indicies, death_j);\n",
    "                labels[labels.== death_j+1] = 1; \n",
    "                for(z in (death_j+2):(num_clusters+1))\n",
    "                    labels[labels.==z] = z-1; \n",
    "                end\n",
    "                num_clusters = num_clusters - 1; \n",
    "\n",
    "                #update model likelihoods\n",
    "                deleteat!(cluster_logLikelihoods, death_j+1); #remove the cluster that's gone\n",
    "\n",
    "                #calculate current model log likelihood by summing over the cluster likelihoods\n",
    "                l_y = sum(cluster_logLikelihoods)\n",
    "                c_y = loglikelihood(Clusters_priordist, [num_clusters]);\n",
    "\n",
    "                #update death rate \n",
    "                deleteat!(delta_arr, death_j);\n",
    "                death_rate = sum(exp(delta_arr));                \n",
    "            end\n",
    "            #println(delta_arr)\n",
    "            #repeat until curr_time = t_0\n",
    "        end\n",
    "        if(idx_1 == burn_in)\n",
    "            println(\"Starting to collect samples...\")\n",
    "        end\n",
    "        \n",
    "        #sample labels from evenly space grid along the chain\n",
    "        if(idx_1 in sample_points)\n",
    "            #println(count)\n",
    "            label_arr[:,count] = labels; \n",
    "            count = count+1; \n",
    "        end\n",
    "        \n",
    "        ###run metropolis to sample from the posterior of the beta distribution \n",
    "        for(curr_label in 1:num_clusters) \n",
    "            avg = 0; \n",
    "            num_samples = 10; \n",
    "            curr_val = bcurr_arr[curr_label]; \n",
    "            for(i in 1:num_samples)\n",
    "                prop_width = 0.1\n",
    "                #proposed betas are random step away from each beta\n",
    "                b_prop = rand(Normal(curr_val, prop_width));\n",
    "                while(b_prop < 1)  b_prop = rand(Normal(curr_val, prop_width)); end;\n",
    "                curr_dist = Beta(1/curr_val, curr_val); \n",
    "                prop_dist = Beta(1/b_prop, b_prop); \n",
    "                cluster = data[find(labels .== curr_label)];\n",
    "                curr_val = getMetropolisStep(b_prop, curr_val,Beta_priordist,curr_dist, prop_dist,cluster);\n",
    "                avg = avg + curr_val; \n",
    "            end\n",
    "            bcurr_arr[curr_label] = avg/num_samples;\n",
    "        end\n",
    "        b_arr = vec([1; bcurr_arr]);\n",
    "        #continue running chain\n",
    "    end\n",
    "   \n",
    "    return label_arr, b_arr\n",
    "end\n"
   ]
  },
  {
   "cell_type": "code",
   "execution_count": 80,
   "metadata": {
    "collapsed": false,
    "deletable": true,
    "editable": true
   },
   "outputs": [
    {
     "data": {
      "image/png": "[encoded data removed]",
      "text/plain": [
       "PyPlot.Figure(PyObject <matplotlib.figure.Figure object at 0x32da5bfd0>)"
      ]
     },
     "metadata": {},
     "output_type": "display_data"
    },
    {
     "name": "stderr",
     "output_type": "stream",
     "text": [
      "\n",
      "WARNING: deprecated syntax \"for (...)\" at In[80]:28.\n",
      "Use \"for ...\" instead.\n",
      "\n",
      "WARNING: deprecated syntax \"for (...)\" at In[80]:29.\n",
      "Use \"for ...\" instead.\n",
      "\n",
      "WARNING: deprecated syntax \"for (...)\" at In[80]:47.\n",
      "Use \"for ...\" instead.\n",
      "\n",
      "WARNING: deprecated syntax \"for (...)\" at In[80]:53.\n",
      "Use \"for ...\" instead.\n"
     ]
    },
    {
     "data": {
      "text/plain": [
       "PyObject <matplotlib.collections.QuadMesh object at 0x32d711d90>"
      ]
     },
     "execution_count": 80,
     "metadata": {},
     "output_type": "execute_result"
    }
   ],
   "source": [
    "#In this file, only run for 2d using different priors on the SAME toy data\n",
    "\n",
    "##############################################################\n",
    "# Generate Toy Data\n",
    "##############################################################\n",
    "#n by n grid with a set number of clusters\n",
    "srand(1122)\n",
    "n = 100; \n",
    "k = 5; \n",
    "dim =2;\n",
    "\n",
    "#prior distribution on number of signal clusters\n",
    "Clusters_priordist = Truncated(Poisson(50), 1, 100)\n",
    "\n",
    "#prior distribution on radius of clusters\n",
    "radius_prior = TruncatedNormal(7, 2, 5, 10); \n",
    "\n",
    "#prior distribution on beta\n",
    "mu = 8; \n",
    "sigma = 5; \n",
    "Beta_priordist = TruncatedNormal(mu, sigma, 2, 200);\n",
    "\n",
    "#p-values which are null are generated \n",
    "#from a uniform distribution \n",
    "null_dist = Uniform(0,1);\n",
    "locations = [0 0];\n",
    "for(i in 1:n)\n",
    "    for(j in 1:n)\n",
    "        locations = vcat(locations, [i j]);\n",
    "    end\n",
    "end\n",
    "locations = locations[2:end,:];\n",
    "\n",
    "#generate map from location to pvalue\n",
    "row_indicies = Dict{Array{Float64,2},Int64}(); \n",
    "for i in 1:size(locations,1)\n",
    "    row_indicies[locations[i,:]'] = i;\n",
    "end\n",
    "\n",
    "#all pvalues other than clusters\n",
    "#are drawn from random uniform\n",
    "pvalues = rand(null_dist,(n*n));\n",
    "labels = ones(n*n);\n",
    "\n",
    "#generate k clusters\n",
    "for(i in 1:k)\n",
    "    center = [rand(DiscreteUniform(1,n)) rand(DiscreteUniform(1,n))];\n",
    "    radius = round(rand(radius_prior)); \n",
    "    newCluster = getSphere(center, radius, locations, dim);\n",
    "    beta = rand(Beta_priordist);\n",
    "    beta_dist = Beta(1/beta,beta);\n",
    "    for(point in newCluster)\n",
    "        index = get(row_indicies, point, -1)\n",
    "        if(index ==-1) continue; end;\n",
    "        labels[index] = i+1; #since label 1 i\n",
    "        pvalues[index] = rand(beta_dist);\n",
    "    end\n",
    "end\n",
    "\n",
    "figure();\n",
    "title(\"Actual\")\n",
    "pcolormesh(reshape(pvalues,n,n))"
   ]
  },
  {
   "cell_type": "code",
   "execution_count": 81,
   "metadata": {
    "collapsed": false
   },
   "outputs": [
    {
     "name": "stderr",
     "output_type": "stream",
     "text": [
      "WARNING: Method definition displayGrid(Any, Any, Any) in module Main at In[76]:3 overwritten at In[81]:3.\n"
     ]
    },
    {
     "data": {
      "text/plain": [
       "displayGrid (generic function with 1 method)"
      ]
     },
     "execution_count": 81,
     "metadata": {},
     "output_type": "execute_result"
    }
   ],
   "source": [
    "function displayGrid(pvalues, label_arr, n)\n",
    "    #to get the labels you average \n",
    "    label_arr[label_arr.!=1] = -1;\n",
    "    labels = sum(label_arr,2); \n",
    "    labels[labels.>0] = 1;\n",
    "    labels[labels.<0] = 0; \n",
    "    \n",
    "    ddd = copy(pvalues);\n",
    "    labels = vec(labels);\n",
    "    ddd[labels.==1] = 1; \n",
    "    ddd[labels.!=1] = 0; \n",
    "    dddd = reshape(ddd,n,n);\n",
    "    figure();\n",
    "    #title(\"Predictions with location information\");\n",
    "    pcolormesh(dddd);\n",
    "    #figure();\n",
    "    #title(\"Actual\")\n",
    "    #pcolormesh(reshape(pvalues,n,n))\n",
    "end"
   ]
  },
  {
   "cell_type": "code",
   "execution_count": 82,
   "metadata": {
    "collapsed": false
   },
   "outputs": [
    {
     "name": "stdout",
     "output_type": "stream",
     "text": [
      "Initializing parameters and prior distributions.\n",
      "Calculating initial likelihoods\n",
      "Warming up the chain.\n"
     ]
    },
    {
     "data": {
      "image/png": "[encoded data removed]",
      "text/plain": [
       "PyPlot.Figure(PyObject <matplotlib.figure.Figure object at 0x32d3fe790>)"
      ]
     },
     "metadata": {},
     "output_type": "display_data"
    },
    {
     "name": "stdout",
     "output_type": "stream",
     "text": [
      "Starting to collect samples...\n"
     ]
    }
   ],
   "source": [
    "### Here you can test the general method with different prior distributiosn\n",
    "\n",
    "#example usage\n",
    "\n",
    "#how many iterations you run the chain for\n",
    "num_iters = 10000;  #takes 10 seconds to run , if 10000 takes 5 minutes \n",
    "\n",
    "#experiment with the choices of differnet priors\n",
    "# 1. Using priors same with the ones to generate the data\n",
    "#prior distribution on number of signal clusters\n",
    "Clusters_priordist = Truncated(Poisson(50), 1, 100)\n",
    "\n",
    "#prior distribution on radius of clusters\n",
    "radius_prior = TruncatedNormal(7, 2, 5, 10); \n",
    "\n",
    "#prior distribution on beta\n",
    "mu = 8; \n",
    "sigma = 5; \n",
    "Beta_priordist = TruncatedNormal(mu, sigma, 2, 200);\n",
    "\n",
    "#birth rate \n",
    "lambda = 100; \n",
    "\n",
    "srand(1234)\n",
    "label_arr, b_arr = getLabels(pvalues, locations, num_iters, Beta_priordist, Clusters_priordist, radius_prior, lambda);\n",
    "\n",
    "displayGrid(pvalues, label_arr, n);"
   ]
  },
  {
   "cell_type": "code",
   "execution_count": 70,
   "metadata": {
    "collapsed": false
   },
   "outputs": [
    {
     "name": "stdout",
     "output_type": "stream",
     "text": [
      "Initializing parameters and prior distributions.\n",
      "Calculating initial likelihoods\n",
      "Warming up the chain.\n",
      "Starting to collect samples...\n",
      "1\n",
      "2\n",
      "3\n",
      "4\n",
      "5\n",
      "6\n",
      "7\n",
      "8\n",
      "9\n",
      "10\n",
      "11\n",
      "12\n",
      "13\n",
      "14\n",
      "15\n",
      "16\n",
      "17\n",
      "18\n",
      "19\n"
     ]
    },
    {
     "data": {
      "image/png": "[encoded data removed]",
      "text/plain": [
       "PyPlot.Figure(PyObject <matplotlib.figure.Figure object at 0x32e5c9950>)"
      ]
     },
     "metadata": {},
     "output_type": "display_data"
    },
    {
     "name": "stdout",
     "output_type": "stream",
     "text": [
      "20\n"
     ]
    }
   ],
   "source": [
    "# 2. Much stronger signal by changing beta prior. keeping other priors same\n",
    "#prior distribution on number of signal clusters\n",
    "Clusters_priordist = Truncated(Poisson(50), 1, 100)\n",
    "\n",
    "#prior distribution on radius of clusters\n",
    "radius_prior = TruncatedNormal(7, 2, 5, 10); \n",
    "\n",
    "#prior distribution on beta\n",
    "mu = 30; \n",
    "sigma = 3; \n",
    "Beta_priordist = TruncatedNormal(mu, sigma, 2, 200);\n",
    "\n",
    "#birth rate \n",
    "lambda = 100; \n",
    "\n",
    "srand(1234)\n",
    "label_arr, b_arr = getLabels(pvalues, locations, num_iters, Beta_priordist, Clusters_priordist, radius_prior, lambda);\n",
    "\n",
    "displayGrid(pvalues, label_arr, n);"
   ]
  },
  {
   "cell_type": "code",
   "execution_count": 83,
   "metadata": {
    "collapsed": false
   },
   "outputs": [
    {
     "name": "stdout",
     "output_type": "stream",
     "text": [
      "Initializing parameters and prior distributions.\n",
      "Calculating initial likelihoods\n",
      "Warming up the chain.\n"
     ]
    },
    {
     "data": {
      "image/png": "[encoded data removed]",
      "text/plain": [
       "PyPlot.Figure(PyObject <matplotlib.figure.Figure object at 0x32c943890>)"
      ]
     },
     "metadata": {},
     "output_type": "display_data"
    },
    {
     "name": "stdout",
     "output_type": "stream",
     "text": [
      "Starting to collect samples...\n"
     ]
    }
   ],
   "source": [
    "# 3. Much weaker signals compared to case 1. keeping other priors same\n",
    "#prior distribution on number of signal clusters\n",
    "Clusters_priordist = Truncated(Poisson(50), 1, 100)\n",
    "\n",
    "#prior distribution on radius of clusters\n",
    "radius_prior = TruncatedNormal(7, 2, 5, 10); \n",
    "\n",
    "#prior distribution on beta\n",
    "mu = 2; \n",
    "sigma = 1; \n",
    "Beta_priordist = TruncatedNormal(mu, sigma, 2, 200);\n",
    "\n",
    "#birth rate \n",
    "lambda = 100; \n",
    "\n",
    "srand(1234)\n",
    "label_arr, b_arr = getLabels(pvalues, locations, num_iters, Beta_priordist, Clusters_priordist, radius_prior, lambda);\n",
    "\n",
    "displayGrid(pvalues, label_arr, n);"
   ]
  },
  {
   "cell_type": "code",
   "execution_count": 84,
   "metadata": {
    "collapsed": false
   },
   "outputs": [
    {
     "name": "stdout",
     "output_type": "stream",
     "text": [
      "Initializing parameters and prior distributions.\n",
      "Calculating initial likelihoods\n",
      "Warming up the chain.\n"
     ]
    },
    {
     "data": {
      "image/png": "[encoded data removed]",
      "text/plain": [
       "PyPlot.Figure(PyObject <matplotlib.figure.Figure object at 0x32e87c2d0>)"
      ]
     },
     "metadata": {},
     "output_type": "display_data"
    },
    {
     "name": "stdout",
     "output_type": "stream",
     "text": [
      "Starting to collect samples...\n"
     ]
    }
   ],
   "source": [
    "# 4.Make radius prior bigger\n",
    "#prior distribution on number of signal clusters\n",
    "Clusters_priordist = Truncated(Poisson(50), 1, 100)\n",
    "\n",
    "#prior distribution on radius of clusters\n",
    "radius_prior = TruncatedNormal(10, 2, 7, 13); \n",
    "\n",
    "#prior distribution on beta\n",
    "mu = 8; \n",
    "sigma = 5; \n",
    "Beta_priordist = TruncatedNormal(mu, sigma, 2, 200);\n",
    "\n",
    "#birth rate \n",
    "lambda = 100; \n",
    "\n",
    "srand(1234)\n",
    "label_arr, b_arr = getLabels(pvalues, locations, num_iters, Beta_priordist, Clusters_priordist, radius_prior, lambda);\n",
    "\n",
    "displayGrid(pvalues, label_arr, n);"
   ]
  },
  {
   "cell_type": "code",
   "execution_count": 85,
   "metadata": {
    "collapsed": false
   },
   "outputs": [
    {
     "name": "stdout",
     "output_type": "stream",
     "text": [
      "Initializing parameters and prior distributions.\n",
      "Calculating initial likelihoods\n",
      "Warming up the chain.\n"
     ]
    },
    {
     "ename": "LoadError",
     "evalue": "InterruptException:",
     "output_type": "error",
     "traceback": [
      "InterruptException:",
      "",
      " in collect(::Base.Generator{UnitRange{Int64},Base.##21#22{Tuple{Int64,Int64}}}) at ./array.jl:308",
      " in getindex(::Tuple{Int64,Int64}, ::UnitRange{Int64}) at ./tuple.jl:10",
      " in reduced_dims(::Tuple{Int64,Int64}, ::Int64, ::Int64) at ./reducedim.jl:15",
      " in reduced_dims0(::Tuple{Int64,Int64}, ::Int64) at ./reducedim.jl:30",
      " in reducedim_initarray0 at ./reducedim.jl:88 [inlined]",
      " in reducedim_initarray0 at ./reducedim.jl:89 [inlined]",
      " in reducedim_init at ./reducedim.jl:122 [inlined]",
      " in mapreducedim at ./reducedim.jl:253 [inlined]",
      " in minimum at ./reducedim.jl:303 [inlined]",
      " in minimum at ./reducedim.jl:305 [inlined]",
      " in getSphere(::Array{Int64,2}, ::Float64, ::Array{Int64,2}, ::Int64) at ./In[77]:7",
      " in getLabels(::Array{Float64,1}, ::Array{Int64,2}, ::Int64, ::Distributions.Truncated{Distributions.Normal{Float64},Distributions.Continuous}, ::Distributions.Truncated{Distributions.Poisson{Float64},Distributions.Discrete}, ::Distributions.Truncated{Distributions.Normal{Float64},Distributions.Continuous}, ::Int64) at ./In[79]:134"
     ]
    }
   ],
   "source": [
    "# 5. Make radius prior smaller\n",
    "#prior distribution on number of signal clusters\n",
    "Clusters_priordist = Truncated(Poisson(50), 1, 100)\n",
    "\n",
    "#prior distribution on radius of clusters\n",
    "radius_prior = TruncatedNormal(2, 2, 1, 10); \n",
    "\n",
    "#prior distribution on beta\n",
    "mu = 8; \n",
    "sigma = 5; \n",
    "Beta_priordist = TruncatedNormal(mu, sigma, 2, 200);\n",
    "\n",
    "#birth rate \n",
    "lambda = 100; \n",
    "\n",
    "srand(1234)\n",
    "label_arr, b_arr = getLabels(pvalues, locations, num_iters, Beta_priordist, Clusters_priordist, radius_prior, lambda);\n",
    "\n",
    "displayGrid(pvalues, label_arr, n);"
   ]
  },
  {
   "cell_type": "code",
   "execution_count": 91,
   "metadata": {
    "collapsed": false
   },
   "outputs": [
    {
     "name": "stdout",
     "output_type": "stream",
     "text": [
      "Initializing parameters and prior distributions.\n",
      "Calculating initial likelihoods\n",
      "Warming up the chain.\n"
     ]
    },
    {
     "data": {
      "image/png": "[encoded data removed]",
      "text/plain": [
       "PyPlot.Figure(PyObject <matplotlib.figure.Figure object at 0x32f001210>)"
      ]
     },
     "metadata": {},
     "output_type": "display_data"
    },
    {
     "name": "stdout",
     "output_type": "stream",
     "text": [
      "Starting to collect samples...\n"
     ]
    }
   ],
   "source": [
    "# 6. Keep strong signal (or not) and and original radius prior, change cluster prior\n",
    "#prior distribution on number of signal clusters\n",
    "Clusters_priordist = Truncated(Poisson(10), 1, 20)\n",
    "\n",
    "#prior distribution on radius of clusters\n",
    "radius_prior = TruncatedNormal(7, 2, 5, 10); \n",
    "\n",
    "#prior distribution on beta\n",
    "mu = 8; \n",
    "sigma = 5; \n",
    "Beta_priordist = TruncatedNormal(mu, sigma, 2, 200);\n",
    "\n",
    "#birth rate \n",
    "lambda = 100; \n",
    "\n",
    "srand(1234)\n",
    "label_arr, b_arr = getLabels(pvalues, locations, num_iters, Beta_priordist, Clusters_priordist, radius_prior, lambda);\n",
    "\n",
    "displayGrid(pvalues, label_arr, n);"
   ]
  },
  {
   "cell_type": "code",
   "execution_count": 92,
   "metadata": {
    "collapsed": false
   },
   "outputs": [
    {
     "name": "stdout",
     "output_type": "stream",
     "text": [
      "Initializing parameters and prior distributions.\n",
      "Calculating initial likelihoods\n",
      "Warming up the chain.\n"
     ]
    },
    {
     "data": {
      "image/png": "[encoded data removed]",
      "text/plain": [
       "PyPlot.Figure(PyObject <matplotlib.figure.Figure object at 0x32de8cc50>)"
      ]
     },
     "metadata": {},
     "output_type": "display_data"
    },
    {
     "name": "stdout",
     "output_type": "stream",
     "text": [
      "Starting to collect samples...\n"
     ]
    }
   ],
   "source": [
    "# 7. Keep strong signal and and original radius prior, change cluster prior\n",
    "#prior distribution on number of signal clusters\n",
    "Clusters_priordist = Truncated(Poisson(3), 1, 10)\n",
    "\n",
    "#prior distribution on radius of clusters\n",
    "radius_prior = TruncatedNormal(7, 2, 5, 10); \n",
    "\n",
    "#prior distribution on beta\n",
    "mu = 30; \n",
    "sigma = 3; \n",
    "Beta_priordist = TruncatedNormal(mu, sigma, 2, 200);\n",
    "\n",
    "#birth rate \n",
    "lambda = 100; \n",
    "\n",
    "srand(1234)\n",
    "label_arr, b_arr = getLabels(pvalues, locations, num_iters, Beta_priordist, Clusters_priordist, radius_prior, lambda);\n",
    "\n",
    "displayGrid(pvalues, label_arr, n);"
   ]
  },
  {
   "cell_type": "code",
   "execution_count": 90,
   "metadata": {
    "collapsed": false
   },
   "outputs": [
    {
     "data": {
      "text/plain": [
       "10000"
      ]
     },
     "execution_count": 90,
     "metadata": {},
     "output_type": "execute_result"
    }
   ],
   "source": [
    "num_iters"
   ]
  },
  {
   "cell_type": "code",
   "execution_count": 93,
   "metadata": {
    "collapsed": false
   },
   "outputs": [
    {
     "name": "stdout",
     "output_type": "stream",
     "text": [
      "Initializing parameters and prior distributions.\n",
      "Calculating initial likelihoods\n",
      "Warming up the chain.\n"
     ]
    },
    {
     "data": {
      "image/png": "[encoded data removed]",
      "text/plain": [
       "PyPlot.Figure(PyObject <matplotlib.figure.Figure object at 0x32d53cd50>)"
      ]
     },
     "metadata": {},
     "output_type": "display_data"
    },
    {
     "name": "stdout",
     "output_type": "stream",
     "text": [
      "Starting to collect samples...\n"
     ]
    }
   ],
   "source": [
    "# 8. Keep strong signal and and original radius prior, change cluster prior\n",
    "#prior distribution on number of signal clusters\n",
    "Clusters_priordist = Truncated(Poisson(300), 1, 1000)\n",
    "\n",
    "#prior distribution on radius of clusters\n",
    "radius_prior = TruncatedNormal(7, 2, 5, 10); \n",
    "\n",
    "#prior distribution on beta\n",
    "mu = 8; \n",
    "sigma = 5; \n",
    "Beta_priordist = TruncatedNormal(mu, sigma, 2, 200);\n",
    "\n",
    "#birth rate \n",
    "lambda = 20; \n",
    "\n",
    "srand(1234)\n",
    "label_arr, b_arr = getLabels(pvalues, locations, num_iters, Beta_priordist, Clusters_priordist, radius_prior, lambda);\n",
    "\n",
    "displayGrid(pvalues, label_arr, n);"
   ]
  },
  {
   "cell_type": "code",
   "execution_count": null,
   "metadata": {
    "collapsed": true
   },
   "outputs": [],
   "source": []
  }
 ],
 "metadata": {
  "kernelspec": {
   "display_name": "Julia 0.5.0",
   "language": "julia",
   "name": "julia-0.5"
  },
  "language_info": {
   "file_extension": ".jl",
   "mimetype": "application/julia",
   "name": "julia",
   "version": "0.5.0"
  }
 },
 "nbformat": 4,
 "nbformat_minor": 2
}
